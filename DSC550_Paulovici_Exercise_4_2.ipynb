{
 "cells": [
  {
   "cell_type": "markdown",
   "metadata": {},
   "source": [
    " # Week 4:\n",
    " File: DSC550_Paulovici_Exercise_4_2.py (.ipynb)<br>\n",
    " Name: Kevin Paulovici<br>\n",
    " Date: 4/5/2020<br>\n",
    " Course: DSC 550 Data Mining (2205-1)<br>\n",
    " Assignment: 4.2 Exercise: Calculate Document Similarity"
   ]
  },
  {
   "cell_type": "markdown",
   "metadata": {},
   "source": [
    " ## Assignment Tasks\n",
    " Create a scenario of when and why you might want to determine if comments are positive or negative (or male/female or pass/fail or any other “binary” categorization). Also tell me how the results could be used. <br><br>\n",
    " You must read the data in from a file.<br><br>\n",
    " You must use some kind of vectorization method/tool (my example uses sklearn count.vectorizer but you can use any vectorization tool or Jaccard Distance.<br><br>\n",
    " Create some kind of a dictionary of sample words you will use to search /categorize your data.<br><br>\n",
    " Display the results.<br><br>\n",
    " For 10% extra credit…add something more to your program that relates to Ch 5-7!"
   ]
  },
  {
   "cell_type": "markdown",
   "metadata": {},
   "source": [
    " ### Scenario\n",
    " For this assignment I will use movie comments to determine if the viewers have a positive or negative view of the movie"
   ]
  },
  {
   "cell_type": "code",
   "execution_count": 1,
   "metadata": {},
   "outputs": [],
   "source": [
    "from sklearn.feature_extraction.text import CountVectorizer\n",
    "import pandas as pd\n",
    "import numpy as np\n"
   ]
  },
  {
   "cell_type": "code",
   "execution_count": 2,
   "metadata": {},
   "outputs": [
    {
     "name": "stdout",
     "output_type": "stream",
     "text": [
      "   Response_ID                                           Response\n",
      "0            1                               The movie was great!\n",
      "1            2                                      Waste of time\n",
      "2            3                  excellent movie, best of all time\n",
      "3            4                               boring, not worth it\n",
      "4            5                                          it was ok\n",
      "5            6  I did enjoy it, but I should of saw the preque...\n",
      "6            7                      terrible, the book was better\n"
     ]
    }
   ],
   "source": [
    "# read in data and create dataframe\n",
    "data = 'movie_responses.csv'\n",
    "df = pd.read_csv(data)\n",
    "print(df)\n",
    "\n",
    "# create corpus from the responses\n",
    "corpus = df['Response']\n"
   ]
  },
  {
   "cell_type": "code",
   "execution_count": 3,
   "metadata": {},
   "outputs": [
    {
     "name": "stdout",
     "output_type": "stream",
     "text": [
      "The vectorized words are: \n",
      "['all', 'best', 'better', 'book', 'boring', 'but', 'did', 'enjoy', 'excellent', 'first', 'great', 'it', 'movie', 'not', 'of', 'ok', 'prequel', 'saw', 'should', 'terrible', 'the', 'time', 'was', 'waste', 'worth']\n",
      "Feature words are: \n",
      "[[0 0 0 0 0 0 0 0 0 0 1 0 1 0 0 0 0 0 0 0 1 0 1 0 0]\n",
      " [0 0 0 0 0 0 0 0 0 0 0 0 0 0 1 0 0 0 0 0 0 1 0 1 0]\n",
      " [1 1 0 0 0 0 0 0 1 0 0 0 1 0 1 0 0 0 0 0 0 1 0 0 0]\n",
      " [0 0 0 0 1 0 0 0 0 0 0 1 0 1 0 0 0 0 0 0 0 0 0 0 1]\n",
      " [0 0 0 0 0 0 0 0 0 0 0 1 0 0 0 1 0 0 0 0 0 0 1 0 0]\n",
      " [0 0 0 0 0 1 1 1 0 1 0 1 0 0 1 0 1 1 1 0 1 0 0 0 0]\n",
      " [0 0 1 1 0 0 0 0 0 0 0 0 0 0 0 0 0 0 0 1 1 0 1 0 0]]\n"
     ]
    }
   ],
   "source": [
    "# create vector of words from responses\n",
    "vectorizer = CountVectorizer()\n",
    "x = vectorizer.fit_transform(corpus)\n",
    "print(\"The vectorized words are: \\n{}\".format(vectorizer.get_feature_names()))\n",
    "print(\"Feature words are: \\n{}\".format(x.toarray()))\n"
   ]
  },
  {
   "cell_type": "code",
   "execution_count": 4,
   "metadata": {},
   "outputs": [
    {
     "name": "stdout",
     "output_type": "stream",
     "text": [
      "                                            response\n",
      "0                               the movie was great!\n",
      "1                                      waste of time\n",
      "2                  excellent movie, best of all time\n",
      "3                               boring, not worth it\n",
      "4                                          it was ok\n",
      "5  i did enjoy it, but i should of saw the preque...\n",
      "6                      terrible, the book was better \n",
      "\n",
      "\n",
      "                                            response  positive  negative  \\\n",
      "0                               the movie was great!         1         0   \n",
      "1                                      waste of time         0         1   \n",
      "2                  excellent movie, best of all time         1         0   \n",
      "3                               boring, not worth it         0         1   \n",
      "4                                          it was ok         0         0   \n",
      "5  i did enjoy it, but i should of saw the preque...         1         0   \n",
      "6                      terrible, the book was better         0         1   \n",
      "\n",
      "   Total  \n",
      "0      1  \n",
      "1     -1  \n",
      "2      1  \n",
      "3     -1  \n",
      "4      0  \n",
      "5      1  \n",
      "6     -1  \n"
     ]
    }
   ],
   "source": [
    "# create new dataframe and check for positive/negative reviews\n",
    "reviews = pd.DataFrame({\"response\": corpus.str.lower()}) # use lower case \n",
    "print(reviews, \"\\n\\n\")\n",
    "\n",
    "# list of positive/negative words\n",
    "pos_list = [\"good\", \"excellent\", \"great\", \"enjoy\"]\n",
    "neg_list = [\"bad\", \"boring\", \"waste\", \"terrible\"]\n",
    "\n",
    "# check for positive/negative words\n",
    "def check_reviews(pos_neg, words):\n",
    "    \"\"\"\n",
    "    @pos_neg (string) - positive or negative \n",
    "    @words (list) - list of words to check for\n",
    "    \"\"\" \n",
    "    # create an empty column for pos/neg first\n",
    "    reviews[pos_neg] = 0\n",
    "\n",
    "    for index, row in reviews.iterrows():\n",
    "        for word in words:\n",
    "            if word in row.response:\n",
    "                reviews.at[index, pos_neg] = reviews.at[index, pos_neg] + 1\n",
    "\n",
    "check_reviews(\"positive\", pos_list)\n",
    "check_reviews(\"negative\", neg_list)\n",
    "\n",
    "# check total\n",
    "reviews[\"Total\"] = reviews.positive - reviews.negative\n",
    "\n",
    "print(reviews)\n"
   ]
  },
  {
   "cell_type": "code",
   "execution_count": 5,
   "metadata": {},
   "outputs": [
    {
     "name": "stdout",
     "output_type": "stream",
     "text": [
      "\n",
      "Overall Score: 0\n",
      "\n",
      "Overall reviews are neutral\n"
     ]
    }
   ],
   "source": [
    "s = sum(reviews[\"Total\"])\n",
    "print(\"\\nOverall Score: {}\\n\".format(s))\n",
    "\n",
    "if s > 0:\n",
    "    print(\"Overall reviews are good\")\n",
    "elif s < 0:\n",
    "    print(\"Overall reviews are negative\")\n",
    "else:\n",
    "    print(\"Overall reviews are neutral\")"
   ]
  },
  {
   "cell_type": "code",
   "execution_count": null,
   "metadata": {},
   "outputs": [],
   "source": [
    "\n",
    "\n"
   ]
  }
 ],
 "metadata": {
  "file_extension": ".py",
  "kernelspec": {
   "display_name": "Python 3",
   "language": "python",
   "name": "python3"
  },
  "language_info": {
   "codemirror_mode": {
    "name": "ipython",
    "version": 3
   },
   "file_extension": ".py",
   "mimetype": "text/x-python",
   "name": "python",
   "nbconvert_exporter": "python",
   "pygments_lexer": "ipython3",
   "version": "3.6.5"
  },
  "mimetype": "text/x-python",
  "name": "python",
  "npconvert_exporter": "python",
  "pygments_lexer": "ipython3",
  "version": 3
 },
 "nbformat": 4,
 "nbformat_minor": 2
}
