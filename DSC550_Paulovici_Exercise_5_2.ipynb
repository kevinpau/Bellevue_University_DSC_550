{
 "cells": [
  {
   "cell_type": "markdown",
   "metadata": {},
   "source": [
    " # Week 5:\n",
    " File: DSC550_Paulovici_Exercise_5_2.py (.ipynb)<br>\n",
    " Name: Kevin Paulovici<br>\n",
    " Date: 4/12/2020<br>\n",
    " Course: DSC 550 Data Mining (2205-1)<br>\n",
    " Assignment: 5.2 Exercise: Graph Analysis"
   ]
  },
  {
   "cell_type": "markdown",
   "metadata": {},
   "source": [
    " ## Assignment Tasks\n",
    " Complete the Hypothesis Case Study Part 1 tutorial. It is not a complete case study; it is just the steps you might take to do Graph Analysis. I have provided sample code for you to use as you go through the tutorial. I recommend that you comment out the steps and run them separately so you can fully understand what you are doing for each step of the analysis. As you go through each step, take screenshots to “prove” to me that you successfully completed each step. Paste your screenshots into a Word document and submit that Word document to the Assignment submission link.\n",
    " <br><br> Code provided by Prof. Becky Deitenbeck"
   ]
  },
  {
   "cell_type": "markdown",
   "metadata": {},
   "source": [
    " ### Case Study:  Testing  Hypothesis\n",
    " Hypothesis:  Articles about Climate Change are more likely to be published by \"Liberal\" sources <br><br>\n",
    " NOTE: This case study is not complete!  We are only using the first part of it to practice Graphic Analytics."
   ]
  },
  {
   "cell_type": "code",
   "execution_count": 1,
   "metadata": {},
   "outputs": [],
   "source": [
    "import pandas as pd\n",
    "import numpy as np\n",
    "import string\n",
    "import re\n",
    "import matplotlib.pyplot as plt\n",
    "from collections import Counter\n"
   ]
  },
  {
   "cell_type": "markdown",
   "metadata": {},
   "source": [
    " #### Step 1:  Load data into a dataframe"
   ]
  },
  {
   "cell_type": "code",
   "execution_count": 2,
   "metadata": {},
   "outputs": [],
   "source": [
    "addr1 = \"articles1.csv\" # file in same dir as .py file\n",
    "articles = pd.read_csv(addr1)\n"
   ]
  },
  {
   "cell_type": "markdown",
   "metadata": {},
   "source": [
    " #### Step 2:  check the dimension of the table/look at the data"
   ]
  },
  {
   "cell_type": "code",
   "execution_count": 3,
   "metadata": {},
   "outputs": [
    {
     "name": "stdout",
     "output_type": "stream",
     "text": [
      "The dimension of the table is: (50000, 10)\n"
     ]
    }
   ],
   "source": [
    "#Dimension of table\n",
    "print(\"The dimension of the table is: {}\".format(articles.shape))\n"
   ]
  },
  {
   "cell_type": "code",
   "execution_count": 4,
   "metadata": {},
   "outputs": [
    {
     "name": "stdout",
     "output_type": "stream",
     "text": [
      "   Unnamed: 0     id                                              title  \\\n",
      "0           0  17283  House Republicans Fret About Winning Their Hea...   \n",
      "1           1  17284  Rift Between Officers and Residents as Killing...   \n",
      "2           2  17285  Tyrus Wong, ‘Bambi’ Artist Thwarted by Racial ...   \n",
      "3           3  17286  Among Deaths in 2016, a Heavy Toll in Pop Musi...   \n",
      "4           4  17287  Kim Jong-un Says North Korea Is Preparing to T...   \n",
      "\n",
      "      publication                         author        date    year  month  \\\n",
      "0  New York Times                     Carl Hulse  2016-12-31  2016.0   12.0   \n",
      "1  New York Times  Benjamin Mueller and Al Baker  2017-06-19  2017.0    6.0   \n",
      "2  New York Times                   Margalit Fox  2017-01-06  2017.0    1.0   \n",
      "3  New York Times               William McDonald  2017-04-10  2017.0    4.0   \n",
      "4  New York Times                  Choe Sang-Hun  2017-01-02  2017.0    1.0   \n",
      "\n",
      "   url                                            content  \n",
      "0  NaN  WASHINGTON  —   Congressional Republicans have...  \n",
      "1  NaN  After the bullet shells get counted, the blood...  \n",
      "2  NaN  When Walt Disney’s “Bambi” opened in 1942, cri...  \n",
      "3  NaN  Death may be the great equalizer, but it isn’t...  \n",
      "4  NaN  SEOUL, South Korea  —   North Korea’s leader, ...  \n"
     ]
    }
   ],
   "source": [
    "#Display the data\n",
    "print(articles.head(5))\n"
   ]
  },
  {
   "cell_type": "code",
   "execution_count": 5,
   "metadata": {},
   "outputs": [
    {
     "name": "stdout",
     "output_type": "stream",
     "text": [
      "Describe Data\n",
      "         Unnamed: 0            id          year         month  url\n",
      "count  50000.000000  50000.000000  50000.000000  50000.000000  0.0\n",
      "mean   25694.378380  44432.454800   2016.273700      5.508940  NaN\n",
      "std    15350.143677  15773.615179      0.634694      3.333062  NaN\n",
      "min        0.000000  17283.000000   2011.000000      1.000000  NaN\n",
      "25%    12500.750000  31236.750000   2016.000000      3.000000  NaN\n",
      "50%    25004.500000  43757.500000   2016.000000      5.000000  NaN\n",
      "75%    38630.250000  57479.250000   2017.000000      8.000000  NaN\n",
      "max    53291.000000  73469.000000   2017.000000     12.000000  NaN\n",
      "Summarized Data\n",
      "                                                    title publication  \\\n",
      "count                                               50000       50000   \n",
      "unique                                              49920           5   \n",
      "top     The 10 most important things in the world righ...   Breitbart   \n",
      "freq                                                    7       23781   \n",
      "\n",
      "                author        date        content  \n",
      "count            43694       50000          50000  \n",
      "unique            3603         983          49888  \n",
      "top     Breitbart News  2016-08-22  advertisement  \n",
      "freq              1559         221             42  \n"
     ]
    }
   ],
   "source": [
    "#what type of variables are in the table \n",
    "print(\"Describe Data\")\n",
    "print(articles.describe())\n",
    "print(\"Summarized Data\")\n",
    "print(articles.describe(include=['O']))\n"
   ]
  },
  {
   "cell_type": "code",
   "execution_count": 6,
   "metadata": {},
   "outputs": [
    {
     "name": "stdout",
     "output_type": "stream",
     "text": [
      "50000\n",
      "50000\n"
     ]
    }
   ],
   "source": [
    "#display length of data\n",
    "print(len(articles))\n",
    "print(len(articles.index)) # another way\n"
   ]
  },
  {
   "cell_type": "code",
   "execution_count": 7,
   "metadata": {},
   "outputs": [
    {
     "name": "stdout",
     "output_type": "stream",
     "text": [
      "['New York Times' 'Breitbart' 'CNN' 'Business Insider' 'Atlantic']\n"
     ]
    }
   ],
   "source": [
    "#display publishers (publications)\n",
    "print(articles.publication.unique())\n"
   ]
  },
  {
   "cell_type": "code",
   "execution_count": 8,
   "metadata": {},
   "outputs": [
    {
     "name": "stdout",
     "output_type": "stream",
     "text": [
      "2011.0\n",
      "2017.0\n"
     ]
    }
   ],
   "source": [
    "#display min, max of years published\n",
    "print(articles['year'].min())\n",
    "print(articles['year'].max())\n"
   ]
  },
  {
   "cell_type": "code",
   "execution_count": 9,
   "metadata": {},
   "outputs": [
    {
     "name": "stdout",
     "output_type": "stream",
     "text": [
      "2016.0    28451\n",
      "2017.0    17908\n",
      "2015.0     3326\n",
      "2013.0      212\n",
      "2014.0       76\n",
      "2012.0       26\n",
      "2011.0        1\n",
      "Name: year, dtype: int64\n"
     ]
    }
   ],
   "source": [
    "#display how many articles from each year\n",
    "print(articles['year'].value_counts())\n"
   ]
  },
  {
   "cell_type": "markdown",
   "metadata": {},
   "source": [
    " #### Step 3:  Create some bar charts to show articles"
   ]
  },
  {
   "cell_type": "code",
   "execution_count": 10,
   "metadata": {},
   "outputs": [
    {
     "data": {
      "image/png": "[encoded data removed]",
      "text/plain": [
       "<Figure size 864x720 with 1 Axes>"
      ]
     },
     "metadata": {},
     "output_type": "display_data"
    }
   ],
   "source": [
    "#display bar chart of articles sorted by Publication Name\n",
    "ax = articles['publication'].value_counts().sort_index().plot(kind='bar', fontsize=14, figsize=(12,10))\n",
    "ax.set_title('Article Publication\\n', fontsize=20)\n",
    "ax.set_xlabel('Publication', fontsize=18)\n",
    "ax.set_ylabel('Count', fontsize=18);\n",
    "plt.show()\n"
   ]
  },
  {
   "cell_type": "code",
   "execution_count": 11,
   "metadata": {},
   "outputs": [
    {
     "data": {
      "image/png": "[encoded data removed]",
      "text/plain": [
       "<Figure size 864x720 with 1 Axes>"
      ]
     },
     "metadata": {},
     "output_type": "display_data"
    }
   ],
   "source": [
    "#display bar chart of articles sorted by counts\n",
    "ax = articles['publication'].value_counts().plot(kind='bar', fontsize=14, figsize=(12,10))\n",
    "ax.set_title('Article Count - most to least\\n', fontsize=20)\n",
    "ax.set_xlabel('Publication', fontsize=18)\n",
    "ax.set_ylabel('Count', fontsize=18);\n",
    "plt.show()\n"
   ]
  },
  {
   "cell_type": "markdown",
   "metadata": {},
   "source": [
    " #### Step 4:  clean text:  no punctuation/all lowercase"
   ]
  },
  {
   "cell_type": "code",
   "execution_count": 12,
   "metadata": {},
   "outputs": [
    {
     "name": "stdout",
     "output_type": "stream",
     "text": [
      "clean text:  \n",
      "0    washington congressional republicans have a ne...\n",
      "1    after the bullet shells get counted the blood ...\n",
      "2    when walt disneys bambi opened in 1942 critics...\n",
      "3    death may be the great equalizer but it isnt n...\n",
      "4    seoul south korea north koreas leader kim said...\n",
      "Name: tokenized, dtype: object\n"
     ]
    }
   ],
   "source": [
    "def clean_text(article):\n",
    "    clean1 = re.sub(r'['+string.punctuation + '’—”'+']', \"\", article.lower())\n",
    "    return re.sub(r'\\W+', ' ', clean1)\n",
    "\n",
    "articles['tokenized'] = articles['content'].map(lambda x: clean_text(x))\n",
    "print(\"clean text:  \\n{}\".format(articles['tokenized'].head()))\n"
   ]
  },
  {
   "cell_type": "code",
   "execution_count": 13,
   "metadata": {},
   "outputs": [
    {
     "name": "stdout",
     "output_type": "stream",
     "text": [
      "Mean: 636.26\n",
      "Min:  0.00\n",
      "Max:  24736.00\n"
     ]
    }
   ],
   "source": [
    "#look at mean, min, max article lengths\n",
    "articles['num_wds'] = articles['tokenized'].apply(lambda x: len(x.split()))\n",
    "print(\"Mean: {:.2f}\".format(articles['num_wds'].mean()))\n",
    "print(\"Min:  {:.2f}\".format(articles['num_wds'].min()))\n",
    "print(\"Max:  {:.2f}\".format(articles['num_wds'].max()))\n"
   ]
  },
  {
   "cell_type": "markdown",
   "metadata": {},
   "source": [
    " #### Step 5:  remove articles with no words"
   ]
  },
  {
   "cell_type": "code",
   "execution_count": 14,
   "metadata": {},
   "outputs": [
    {
     "name": "stdout",
     "output_type": "stream",
     "text": [
      "New Mean:  637.09\n",
      "New Min:   1.00\n",
      "New Max:   24736.00\n"
     ]
    }
   ],
   "source": [
    "len(articles[articles['num_wds']==0])\n",
    "articles = articles[articles['num_wds']>0]\n",
    "print(\"New Mean:  {:.2f}\".format(articles['num_wds'].mean()))\n",
    "print(\"New Min:   {:.2f}\".format(articles['num_wds'].min()))\n",
    "print(\"New Max:   {:.2f}\".format(articles['num_wds'].max()))\n"
   ]
  },
  {
   "cell_type": "markdown",
   "metadata": {},
   "source": [
    " #### Step 6:  Check for Outliers:  show bar graph of outliers"
   ]
  },
  {
   "cell_type": "code",
   "execution_count": 15,
   "metadata": {},
   "outputs": [
    {
     "data": {
      "image/png": "[encoded data removed]",
      "text/plain": [
       "<Figure size 864x720 with 1 Axes>"
      ]
     },
     "metadata": {},
     "output_type": "display_data"
    }
   ],
   "source": [
    "ax=articles['num_wds'].plot(kind='hist', bins=50, fontsize=14, figsize=(12,10))\n",
    "ax.set_title('Article Length in Words\\n', fontsize=20)\n",
    "ax.set_ylabel('Frequency', fontsize=18)\n",
    "ax.set_xlabel('Number of Words', fontsize=18);\n",
    "plt.show()\n"
   ]
  }
 ],
 "metadata": {
  "file_extension": ".py",
  "kernelspec": {
   "display_name": "Python 3",
   "language": "python",
   "name": "python3"
  },
  "language_info": {
   "codemirror_mode": {
    "name": "ipython",
    "version": 3
   },
   "file_extension": ".py",
   "mimetype": "text/x-python",
   "name": "python",
   "nbconvert_exporter": "python",
   "pygments_lexer": "ipython3",
   "version": "3.6.5"
  },
  "mimetype": "text/x-python",
  "name": "python",
  "npconvert_exporter": "python",
  "pygments_lexer": "ipython3",
  "version": 3
 },
 "nbformat": 4,
 "nbformat_minor": 2
}
